{
  "nbformat": 4,
  "nbformat_minor": 0,
  "metadata": {
    "colab": {
      "provenance": []
    },
    "kernelspec": {
      "name": "python3",
      "display_name": "Python 3"
    },
    "language_info": {
      "name": "python"
    }
  },
  "cells": [
    {
      "cell_type": "markdown",
      "source": [
        "# *Welcome to numpy tutorial*"
      ],
      "metadata": {
        "id": "rjC62ilHTax5"
      }
    },
    {
      "cell_type": "code",
      "execution_count": 1,
      "metadata": {
        "id": "ZpaeKTVMTPcx"
      },
      "outputs": [],
      "source": [
        "import numpy as np"
      ]
    },
    {
      "cell_type": "code",
      "source": [
        "myarr=np.array([3,6,32,7])"
      ],
      "metadata": {
        "id": "baUICkWYTuR-"
      },
      "execution_count": 2,
      "outputs": []
    },
    {
      "cell_type": "code",
      "source": [
        "myarr"
      ],
      "metadata": {
        "colab": {
          "base_uri": "https://localhost:8080/"
        },
        "id": "-B0AvrfGUFGl",
        "outputId": "f087075d-3c9e-408a-f917-628de5831c70"
      },
      "execution_count": 3,
      "outputs": [
        {
          "output_type": "execute_result",
          "data": {
            "text/plain": [
              "array([ 3,  6, 32,  7])"
            ]
          },
          "metadata": {},
          "execution_count": 3
        }
      ]
    },
    {
      "cell_type": "code",
      "source": [
        "type(myarr)"
      ],
      "metadata": {
        "colab": {
          "base_uri": "https://localhost:8080/"
        },
        "id": "MM7pbODKUF1Q",
        "outputId": "2f32788c-84af-4fdc-f64d-cc9fbaf042da"
      },
      "execution_count": 4,
      "outputs": [
        {
          "output_type": "execute_result",
          "data": {
            "text/plain": [
              "numpy.ndarray"
            ]
          },
          "metadata": {},
          "execution_count": 4
        }
      ]
    },
    {
      "cell_type": "code",
      "source": [
        "myarr_1=np.array([3,6,32,7], np.int8) # 1D array"
      ],
      "metadata": {
        "id": "Vy-anbwOUIVy"
      },
      "execution_count": 5,
      "outputs": []
    },
    {
      "cell_type": "code",
      "source": [
        "myarr_1"
      ],
      "metadata": {
        "colab": {
          "base_uri": "https://localhost:8080/"
        },
        "id": "S08lftYjUceX",
        "outputId": "946cf1e0-8a0d-4521-ee21-7d3b09522165"
      },
      "execution_count": 6,
      "outputs": [
        {
          "output_type": "execute_result",
          "data": {
            "text/plain": [
              "array([ 3,  6, 32,  7], dtype=int8)"
            ]
          },
          "metadata": {},
          "execution_count": 6
        }
      ]
    },
    {
      "cell_type": "code",
      "source": [
        "myarr_1.shape  # The .shape attribute returns the dimensions of the array as a tuple.\n",
        "               # Since this is a 1D array with 4 elements, the shape is (4,), indicating it has 4 elements along one axis."
      ],
      "metadata": {
        "colab": {
          "base_uri": "https://localhost:8080/"
        },
        "id": "9mW2I5OAXwtJ",
        "outputId": "93782311-2bde-477a-9c2a-46b1979a1c36"
      },
      "execution_count": 7,
      "outputs": [
        {
          "output_type": "execute_result",
          "data": {
            "text/plain": [
              "(4,)"
            ]
          },
          "metadata": {},
          "execution_count": 7
        }
      ]
    },
    {
      "cell_type": "code",
      "source": [
        "myarr_1[0]"
      ],
      "metadata": {
        "colab": {
          "base_uri": "https://localhost:8080/"
        },
        "id": "ddnjd6JdVhrl",
        "outputId": "691c758f-4b34-4356-c47f-fb07c071a1aa"
      },
      "execution_count": 8,
      "outputs": [
        {
          "output_type": "execute_result",
          "data": {
            "text/plain": [
              "3"
            ]
          },
          "metadata": {},
          "execution_count": 8
        }
      ]
    },
    {
      "cell_type": "code",
      "source": [
        "myarr_1[1]"
      ],
      "metadata": {
        "colab": {
          "base_uri": "https://localhost:8080/"
        },
        "id": "80o-Q64KVtvZ",
        "outputId": "11425e99-2db5-4c42-f740-a7c9ab6fd7cb"
      },
      "execution_count": 9,
      "outputs": [
        {
          "output_type": "execute_result",
          "data": {
            "text/plain": [
              "6"
            ]
          },
          "metadata": {},
          "execution_count": 9
        }
      ]
    },
    {
      "cell_type": "code",
      "source": [
        "myarr_2=np.array([[3,6,32,7]]) # 2D array"
      ],
      "metadata": {
        "id": "auENjm7rUj43"
      },
      "execution_count": 10,
      "outputs": []
    },
    {
      "cell_type": "code",
      "source": [
        "myarr_2[0]"
      ],
      "metadata": {
        "colab": {
          "base_uri": "https://localhost:8080/"
        },
        "id": "tTqidyN5Vn9g",
        "outputId": "37c28697-289a-4a35-aebd-6fcb2696a2d0"
      },
      "execution_count": 11,
      "outputs": [
        {
          "output_type": "execute_result",
          "data": {
            "text/plain": [
              "array([ 3,  6, 32,  7])"
            ]
          },
          "metadata": {},
          "execution_count": 11
        }
      ]
    },
    {
      "cell_type": "code",
      "source": [
        "myarr_2[1]"
      ],
      "metadata": {
        "colab": {
          "base_uri": "https://localhost:8080/",
          "height": 141
        },
        "id": "MSiJAav-Vw11",
        "outputId": "23c190ea-21a9-4666-f725-fecceeac8cb3"
      },
      "execution_count": 12,
      "outputs": [
        {
          "output_type": "error",
          "ename": "IndexError",
          "evalue": "index 1 is out of bounds for axis 0 with size 1",
          "traceback": [
            "\u001b[0;31m---------------------------------------------------------------------------\u001b[0m",
            "\u001b[0;31mIndexError\u001b[0m                                Traceback (most recent call last)",
            "\u001b[0;32m<ipython-input-12-786fbd994837>\u001b[0m in \u001b[0;36m<cell line: 1>\u001b[0;34m()\u001b[0m\n\u001b[0;32m----> 1\u001b[0;31m \u001b[0mmyarr_2\u001b[0m\u001b[0;34m[\u001b[0m\u001b[0;36m1\u001b[0m\u001b[0;34m]\u001b[0m\u001b[0;34m\u001b[0m\u001b[0;34m\u001b[0m\u001b[0m\n\u001b[0m",
            "\u001b[0;31mIndexError\u001b[0m: index 1 is out of bounds for axis 0 with size 1"
          ]
        }
      ]
    },
    {
      "cell_type": "code",
      "source": [
        "print(myarr_2[0, 0]) # 2D arrary's 0th index row, 0th index column\n",
        "print(myarr_2[0, 1]) # 2D arrary's 0th index row, 1th index column\n",
        "print(myarr_2[0, 2]) # 2D arrary's 0th index row, 2th index column\n",
        "print(myarr_2[0, 3]) # 2D arrary's 0th index row, 3th index column\n"
      ],
      "metadata": {
        "colab": {
          "base_uri": "https://localhost:8080/"
        },
        "id": "kfWK70rfVqqE",
        "outputId": "ccb0c71e-6200-4169-9ea8-4468c3d99b3f"
      },
      "execution_count": 13,
      "outputs": [
        {
          "output_type": "stream",
          "name": "stdout",
          "text": [
            "3\n",
            "6\n",
            "32\n",
            "7\n"
          ]
        }
      ]
    },
    {
      "cell_type": "code",
      "source": [
        "myarr_2.shape  # it shows one row and 4 columns"
      ],
      "metadata": {
        "colab": {
          "base_uri": "https://localhost:8080/"
        },
        "id": "mzWmhV0zW6UF",
        "outputId": "6498eb40-fe0f-4c92-a1fd-41803e403058"
      },
      "execution_count": 14,
      "outputs": [
        {
          "output_type": "execute_result",
          "data": {
            "text/plain": [
              "(1, 4)"
            ]
          },
          "metadata": {},
          "execution_count": 14
        }
      ]
    },
    {
      "cell_type": "markdown",
      "source": [
        "**There's an important distinction in NumPy between a 1D array and a 2D array.** Let me clarify:\n",
        "\n",
        "1D Array:\n",
        "A 1D array is simply a list of elements, and it doesn’t inherently have rows or columns. It’s just a single axis with elements along it.\n",
        "For example: np.array([3, 6, 32, 7])\n",
        "Shape: (4,) — This indicates there is one dimension with 4 elements along it.\n",
        "It is not structured in terms of rows and columns.\n",
        "\n",
        "2D Array:\n",
        "A 2D array explicitly represents data in rows and columns.\n",
        "For example: np.array([[3, 6, 32, 7]])\n",
        "Shape: (1, 4) — This indicates 1 row and 4 columns.\n",
        "\n",
        "Why the Difference Matters:\n",
        "1D arrays don't distinguish between rows and columns because there's only one axis. They are often used for linear data.\n",
        "2D arrays are explicitly for tabular or grid-like data where rows and columns are meaningful.\n",
        "\n",
        "Key Point:\n",
        "A 1D array with shape (4,) is conceptually different from a 2D array with shape (1, 4), even though they might look similar when printed. The 1D array doesn’t have the extra structure to specify rows or columns.\n",
        "\n",
        "In NumPy, axes refer to the dimensions of an array. Each axis represents a direction or coordinate in the array.\n",
        "\n",
        "\n",
        "```\n",
        "# This is formatted as code\n",
        "```\n",
        "\n"
      ],
      "metadata": {
        "id": "YHuh41yjZ_hH"
      }
    },
    {
      "cell_type": "markdown",
      "source": [
        "# we can even change elements inside numpy array"
      ],
      "metadata": {
        "id": "dvpbSloJdfuz"
      }
    },
    {
      "cell_type": "code",
      "source": [
        "print(myarr_2)"
      ],
      "metadata": {
        "colab": {
          "base_uri": "https://localhost:8080/"
        },
        "id": "Mfnc3KVVdsmu",
        "outputId": "73a73ff0-7e89-4178-c8a4-474630e6830c"
      },
      "execution_count": 15,
      "outputs": [
        {
          "output_type": "stream",
          "name": "stdout",
          "text": [
            "[[ 3  6 32  7]]\n"
          ]
        }
      ]
    },
    {
      "cell_type": "code",
      "source": [
        "myarr_2[0, 2]=2"
      ],
      "metadata": {
        "id": "rEIShA9OXqZV"
      },
      "execution_count": 16,
      "outputs": []
    },
    {
      "cell_type": "code",
      "source": [
        "print(myarr_2)"
      ],
      "metadata": {
        "colab": {
          "base_uri": "https://localhost:8080/"
        },
        "id": "YgG4paOKdpzR",
        "outputId": "c8b62882-37ca-470b-a122-27225c99ff24"
      },
      "execution_count": 17,
      "outputs": [
        {
          "output_type": "stream",
          "name": "stdout",
          "text": [
            "[[3 6 2 7]]\n"
          ]
        }
      ]
    },
    {
      "cell_type": "markdown",
      "source": [
        "# Array creation methods in numpy"
      ],
      "metadata": {
        "id": "KI_Z7veZeg1O"
      }
    },
    {
      "cell_type": "code",
      "source": [
        "# Conversion from other python data structure i.e list, we are passing list [3,6,32,7] in np.array()\n",
        "list_array=np.array([[3,6,32], [2,43,54], [45,98,61]])\n",
        "print(list_array)\n",
        "print(list_array.size)\n",
        "print(list_array.shape)\n",
        "print(list_array.dtype)"
      ],
      "metadata": {
        "id": "0uT3hNRSdrjv",
        "colab": {
          "base_uri": "https://localhost:8080/"
        },
        "outputId": "d6f6353b-8db6-4789-e9eb-749972321287"
      },
      "execution_count": 18,
      "outputs": [
        {
          "output_type": "stream",
          "name": "stdout",
          "text": [
            "[[ 3  6 32]\n",
            " [ 2 43 54]\n",
            " [45 98 61]]\n",
            "9\n",
            "(3, 3)\n",
            "int64\n"
          ]
        }
      ]
    },
    {
      "cell_type": "code",
      "source": [
        "# numpy array creation objects zeros\n",
        "zeros=np.zeros((2,5))\n",
        "zeros\n"
      ],
      "metadata": {
        "colab": {
          "base_uri": "https://localhost:8080/"
        },
        "id": "Ha1B8KSIFSp3",
        "outputId": "c4c00d66-1745-47f1-93dd-1eb3b5598ceb"
      },
      "execution_count": 19,
      "outputs": [
        {
          "output_type": "execute_result",
          "data": {
            "text/plain": [
              "array([[0., 0., 0., 0., 0.],\n",
              "       [0., 0., 0., 0., 0.]])"
            ]
          },
          "metadata": {},
          "execution_count": 19
        }
      ]
    },
    {
      "cell_type": "code",
      "source": [
        "print(zeros.dtype)"
      ],
      "metadata": {
        "colab": {
          "base_uri": "https://localhost:8080/"
        },
        "id": "nw3qBe4DHKZp",
        "outputId": "9e09469c-79bf-4ac4-aec1-f00712e8bffe"
      },
      "execution_count": 20,
      "outputs": [
        {
          "output_type": "stream",
          "name": "stdout",
          "text": [
            "float64\n"
          ]
        }
      ]
    },
    {
      "cell_type": "code",
      "source": [
        "# numpy array creation objects arange\n",
        "rng=np.arange(15)\n",
        "rng"
      ],
      "metadata": {
        "colab": {
          "base_uri": "https://localhost:8080/"
        },
        "id": "sTnVgEgJHg3m",
        "outputId": "4e646712-ec6f-4390-c8a6-665315863026"
      },
      "execution_count": 21,
      "outputs": [
        {
          "output_type": "execute_result",
          "data": {
            "text/plain": [
              "array([ 0,  1,  2,  3,  4,  5,  6,  7,  8,  9, 10, 11, 12, 13, 14])"
            ]
          },
          "metadata": {},
          "execution_count": 21
        }
      ]
    },
    {
      "cell_type": "code",
      "source": [
        "# numpy array creation objects linspace i.e equally linearly spaced element\n",
        "lspace=np.linspace(1,5,4)\n",
        "lspace\n",
        "\n",
        "'''\n",
        "Key Points:\n",
        "The start value is 1.\n",
        "The end value is 5.\n",
        "4 specifies the total number of points in the array, including the start and end points.\n",
        "\n",
        "\n",
        "The np.linspace function generates an array of evenly spaced numbers over a specified range.\n",
        "np.linspace(1, 5, 4) generates 4 evenly spaced values between 1 and 5 (inclusive).\n",
        "The interval between values is calculated such that the range is divided into 3 equal gaps:\n",
        "\n",
        "2.33333333 and 3.66666667 are the midpoints between adjacent numbers.\n",
        "'''"
      ],
      "metadata": {
        "colab": {
          "base_uri": "https://localhost:8080/",
          "height": 87
        },
        "id": "_77qPZltHyXx",
        "outputId": "56dd9de7-5781-4be8-a12d-a41d8564a57a"
      },
      "execution_count": 22,
      "outputs": [
        {
          "output_type": "execute_result",
          "data": {
            "text/plain": [
              "'\\nKey Points:\\nThe start value is 1.\\nThe end value is 5.\\n4 specifies the total number of points in the array, including the start and end points.\\n\\n\\nThe np.linspace function generates an array of evenly spaced numbers over a specified range.\\nnp.linspace(1, 5, 4) generates 4 evenly spaced values between 1 and 5 (inclusive).\\nThe interval between values is calculated such that the range is divided into 3 equal gaps:\\n\\n2.33333333 and 3.66666667 are the midpoints between adjacent numbers.\\n'"
            ],
            "application/vnd.google.colaboratory.intrinsic+json": {
              "type": "string"
            }
          },
          "metadata": {},
          "execution_count": 22
        }
      ]
    },
    {
      "cell_type": "code",
      "source": [
        "lspace=np.linspace(1,5,5)\n",
        "lspace"
      ],
      "metadata": {
        "colab": {
          "base_uri": "https://localhost:8080/"
        },
        "id": "IpeyMyejIaOp",
        "outputId": "31094e39-b6dd-4409-c5eb-8251698f37b4"
      },
      "execution_count": 23,
      "outputs": [
        {
          "output_type": "execute_result",
          "data": {
            "text/plain": [
              "array([1., 2., 3., 4., 5.])"
            ]
          },
          "metadata": {},
          "execution_count": 23
        }
      ]
    },
    {
      "cell_type": "code",
      "source": [
        "lspace.dtype"
      ],
      "metadata": {
        "colab": {
          "base_uri": "https://localhost:8080/"
        },
        "id": "0KVt6GKaJy5I",
        "outputId": "8fd339f1-e641-4c6d-9572-a7623d7f076b"
      },
      "execution_count": 24,
      "outputs": [
        {
          "output_type": "execute_result",
          "data": {
            "text/plain": [
              "dtype('float64')"
            ]
          },
          "metadata": {},
          "execution_count": 24
        }
      ]
    },
    {
      "cell_type": "code",
      "source": [
        "# using empty()\n",
        "empty_array=np.empty((4,6))\n",
        "empty_array\n",
        "\n",
        "'''\n",
        "The np.empty function creates an array of a specified shape without initializing its values to any specific numbers.\n",
        "This means the contents of the array are arbitrary and depend on the state of the memory at the time of creation i.e random numbers\n",
        "\n",
        "When to Use np.empty:\n",
        "It's faster than other array-creation functions because it skips initialization.\n",
        "Use it when you plan to immediately populate the array with assignment values, and thus you created empty array at prior step.\n",
        "'''"
      ],
      "metadata": {
        "colab": {
          "base_uri": "https://localhost:8080/",
          "height": 87
        },
        "id": "wFAnOPoxJ3yn",
        "outputId": "fa6f68cf-3d14-4a83-ca10-fedf672c209d"
      },
      "execution_count": 25,
      "outputs": [
        {
          "output_type": "execute_result",
          "data": {
            "text/plain": [
              "\"\\nThe np.empty function creates an array of a specified shape without initializing its values to any specific numbers.\\nThis means the contents of the array are arbitrary and depend on the state of the memory at the time of creation i.e random numbers\\n\\nWhen to Use np.empty:\\nIt's faster than other array-creation functions because it skips initialization.\\nUse it when you plan to immediately populate the array with assignment values, and thus you created empty array at prior step.\\n\""
            ],
            "application/vnd.google.colaboratory.intrinsic+json": {
              "type": "string"
            }
          },
          "metadata": {},
          "execution_count": 25
        }
      ]
    },
    {
      "cell_type": "code",
      "source": [
        "# using empty_like\n",
        "\n",
        "original = np.array([[1, 2, 3], [4, 5, 6]])\n",
        "empty_like_array = np.empty_like(original)\n",
        "\n",
        "print(\"Original Array:\\n\", original)\n",
        "print(\"\\nEmpty Like Array:\\n\", empty_like_array)\n",
        "\n",
        "'''\n",
        "The function np.empty_like creates a new array with the same shape and data type as a given array,\n",
        "but without initializing its values (just like np.empty).\n",
        "\n",
        "The values in empty_like_array will be arbitrary (uninitialized), but the shape and data type will match original.\n",
        "\n",
        "Use Case:\n",
        "np.empty_like is useful when you want a placeholder array with the same structure as an existing array but plan to fill it with new values later.\n",
        "\n",
        "'''\n"
      ],
      "metadata": {
        "colab": {
          "base_uri": "https://localhost:8080/",
          "height": 191
        },
        "id": "5Zf7pepbLXTR",
        "outputId": "c541273a-910a-4985-cd2f-199f6fdbabb9"
      },
      "execution_count": 26,
      "outputs": [
        {
          "output_type": "stream",
          "name": "stdout",
          "text": [
            "Original Array:\n",
            " [[1 2 3]\n",
            " [4 5 6]]\n",
            "\n",
            "Empty Like Array:\n",
            " [[102014426632070               0 136777058557680]\n",
            " [136777467314224 136777058557680 136777058557680]]\n"
          ]
        },
        {
          "output_type": "execute_result",
          "data": {
            "text/plain": [
              "'\\nThe function np.empty_like creates a new array with the same shape and data type as a given array,\\nbut without initializing its values (just like np.empty).\\n\\nThe values in empty_like_array will be arbitrary (uninitialized), but the shape and data type will match original.\\n\\nUse Case:\\nnp.empty_like is useful when you want a placeholder array with the same structure as an existing array but plan to fill it with new values later.\\n\\n'"
            ],
            "application/vnd.google.colaboratory.intrinsic+json": {
              "type": "string"
            }
          },
          "metadata": {},
          "execution_count": 26
        }
      ]
    },
    {
      "cell_type": "code",
      "source": [
        "# using identity\n",
        "\n",
        "# Create a 3x3 identity matrix\n",
        "identity_matrix = np.identity(3)\n",
        "print(identity_matrix)\n",
        "\n",
        "'''\n",
        "The np.identity function in NumPy creates an identity matrix, which is a square matrix with ones on the main diagonal and zeros elsewhere.\n",
        "\n",
        "What is an Identity Matrix?\n",
        "An identity matrix is a special kind of square matrix where:\n",
        "\n",
        "Diagonal elements are 1.\n",
        "All off-diagonal elements are 0.\n",
        "\n",
        "Key Points:\n",
        "Shape: The matrix is always square, with the shape (n, n).\n",
        "Default dtype: The default data type is float.\n",
        "Custom dtype: You can specify the data type:\n",
        "\n",
        "Use Cases:\n",
        "Identity matrices are widely used in linear algebra, for example, as the multiplicative identity in matrix operations.\n",
        "\n",
        "\n",
        "'''"
      ],
      "metadata": {
        "colab": {
          "base_uri": "https://localhost:8080/",
          "height": 157
        },
        "id": "WK2KpNyWKV9t",
        "outputId": "cec523dc-3893-4972-895d-fc098748b472"
      },
      "execution_count": 27,
      "outputs": [
        {
          "output_type": "stream",
          "name": "stdout",
          "text": [
            "[[1. 0. 0.]\n",
            " [0. 1. 0.]\n",
            " [0. 0. 1.]]\n"
          ]
        },
        {
          "output_type": "execute_result",
          "data": {
            "text/plain": [
              "'\\nThe np.identity function in NumPy creates an identity matrix, which is a square matrix with ones on the main diagonal and zeros elsewhere.\\n\\nWhat is an Identity Matrix?\\nAn identity matrix is a special kind of square matrix where:\\n\\nDiagonal elements are 1.\\nAll off-diagonal elements are 0.\\n\\nKey Points:\\nShape: The matrix is always square, with the shape (n, n).\\nDefault dtype: The default data type is float.\\nCustom dtype: You can specify the data type:\\n\\nUse Cases:\\nIdentity matrices are widely used in linear algebra, for example, as the multiplicative identity in matrix operations.\\n\\n\\n'"
            ],
            "application/vnd.google.colaboratory.intrinsic+json": {
              "type": "string"
            }
          },
          "metadata": {},
          "execution_count": 27
        }
      ]
    },
    {
      "cell_type": "code",
      "source": [
        "# using reshape\n",
        "\n",
        "arr = np.array([1, 2, 3, 4, 5, 6])\n",
        "reshaped_arr = np.reshape(arr, (2, 3))  # Reshape to 2 rows and 3 columns\n",
        "print(reshaped_arr)"
      ],
      "metadata": {
        "colab": {
          "base_uri": "https://localhost:8080/"
        },
        "id": "7IlESsNFNwEi",
        "outputId": "689bb7ba-06ce-4655-fe73-eeef05046629"
      },
      "execution_count": 28,
      "outputs": [
        {
          "output_type": "stream",
          "name": "stdout",
          "text": [
            "[[1 2 3]\n",
            " [4 5 6]]\n"
          ]
        }
      ]
    },
    {
      "cell_type": "code",
      "source": [
        "# Example 2: Using -1 to Automatically Infer the Dimension\n",
        "\n",
        "arr = np.array([1, 2, 3, 4, 5, 6])\n",
        "reshaped_arr = np.reshape(arr, (-1, 2))  # Let NumPy figure out the number of rows\n",
        "print(reshaped_arr)"
      ],
      "metadata": {
        "colab": {
          "base_uri": "https://localhost:8080/"
        },
        "id": "pzpw5O2mO3NB",
        "outputId": "e3905024-62e6-43f3-e274-1fcb8c857a77"
      },
      "execution_count": 29,
      "outputs": [
        {
          "output_type": "stream",
          "name": "stdout",
          "text": [
            "[[1 2]\n",
            " [3 4]\n",
            " [5 6]]\n"
          ]
        }
      ]
    },
    {
      "cell_type": "code",
      "source": [
        "# Example 3: Reshaping a 2D Array to 1D\n",
        "arr = np.array([[1, 2, 3], [4, 5, 6]])\n",
        "reshaped_arr = np.reshape(arr, -1)  # Flatten to a 1D array\n",
        "print(reshaped_arr)\n",
        "\n",
        "'''\n",
        "Key Points:\n",
        "The total number of elements must remain the same after reshaping.\n",
        "-1 is a flexible way to let NumPy calculate one dimension automatically.\n",
        "Reshaping doesn't modify the original array; it returns a new one.\n",
        "'''"
      ],
      "metadata": {
        "colab": {
          "base_uri": "https://localhost:8080/",
          "height": 70
        },
        "id": "5_s07ZZzPO4B",
        "outputId": "88a14244-f69a-44a1-dcff-4b3e1a28a833"
      },
      "execution_count": 30,
      "outputs": [
        {
          "output_type": "stream",
          "name": "stdout",
          "text": [
            "[1 2 3 4 5 6]\n"
          ]
        },
        {
          "output_type": "execute_result",
          "data": {
            "text/plain": [
              "\"\\nKey Points:\\nThe total number of elements must remain the same after reshaping.\\n-1 is a flexible way to let NumPy calculate one dimension automatically.\\nReshaping doesn't modify the original array; it returns a new one.\\n\""
            ],
            "application/vnd.google.colaboratory.intrinsic+json": {
              "type": "string"
            }
          },
          "metadata": {},
          "execution_count": 30
        }
      ]
    },
    {
      "cell_type": "code",
      "source": [
        "# using ravel\n",
        "\n",
        "arr = np.array([[1, 2, 3],\n",
        "                [4, 5, 6]])\n",
        "\n",
        "flattened = np.ravel(arr)\n",
        "print(flattened)\n",
        "\n",
        "'''\n",
        "\n",
        "The np.ravel function in NumPy is used to flatten a multi-dimensional array into a 1D array. Unlike reshape(-1),\n",
        "ravel tries to return a flattened view of the original array if possible, meaning it doesn’t create a new copy of the data unless necessary.\n",
        "\n",
        "Difference Between ravel and flatten:\n",
        "\n",
        "np.ravel: Returns a flattened view of the array if possible, so changes to the flattened array may affect the original array (unless it creates a copy).\n",
        "np.flatten: Always returns a copy of the original array, so changes won’t affect the original.\n",
        "'''"
      ],
      "metadata": {
        "colab": {
          "base_uri": "https://localhost:8080/",
          "height": 104
        },
        "id": "kftUlonUPbuE",
        "outputId": "0c161ad0-8b2c-4479-a945-68cdc5095ebe"
      },
      "execution_count": 31,
      "outputs": [
        {
          "output_type": "stream",
          "name": "stdout",
          "text": [
            "[1 2 3 4 5 6]\n"
          ]
        },
        {
          "output_type": "execute_result",
          "data": {
            "text/plain": [
              "'\\n\\nThe np.ravel function in NumPy is used to flatten a multi-dimensional array into a 1D array. Unlike reshape(-1),\\nravel tries to return a flattened view of the original array if possible, meaning it doesn’t create a new copy of the data unless necessary.\\n\\nDifference Between ravel and flatten:\\n\\nnp.ravel: Returns a flattened view of the array if possible, so changes to the flattened array may affect the original array (unless it creates a copy).\\nnp.flatten: Always returns a copy of the original array, so changes won’t affect the original.\\n'"
            ],
            "application/vnd.google.colaboratory.intrinsic+json": {
              "type": "string"
            }
          },
          "metadata": {},
          "execution_count": 31
        }
      ]
    },
    {
      "cell_type": "markdown",
      "source": [
        "**What is an Axis?**\n",
        "\n",
        "An axis is like a label for the dimensions of an array.\n",
        "\n",
        "For example:\n",
        "\n",
        "In a 1D array: There is only one axis (axis 0) — the single sequence of elements.\n",
        "\n",
        "\n",
        "In a 2D array: There are two axes:\n",
        "\n",
        "\n",
        "Axis 0 represents rows (vertical direction).\n",
        "\n",
        "Axis 1 represents columns (horizontal direction).\n",
        "\n",
        "How Many Axes in a 2D Array?\n",
        "A 2D array has 2 axes:\n",
        "\n",
        "Axis 0 (rows): Represents the rows in the array.\n",
        "\n",
        "Axis 1 (columns): Represents the columns in the array.\n",
        "\n",
        "============================\n",
        "**\n",
        "\n",
        "import numpy as np\n",
        "\n",
        "myarr_2 = np.array([[1, 2, 3],\n",
        "                    [4, 5, 6]])\n",
        "\n",
        "print(myarr_2)\n",
        "\n",
        "print(\"Shape:\", myarr_2.shape)\n",
        "\n",
        "**\n",
        "\n",
        "**Output**\n",
        "\n",
        "[[1 2 3]\n",
        "\n",
        " [4 5 6]]\n",
        "\n",
        "Shape: (2, 3)\n",
        "\n",
        "\n",
        "The shape (2, 3) indicates:\n",
        "\n",
        "2 rows along axis 0.\n",
        "\n",
        "3 columns along axis 1.\n",
        "\n",
        "**\n",
        "\n",
        "Operations Along Axes:\n",
        "\n",
        "When performing operations like summing, you can specify an axis:\n",
        "\n",
        "np.sum(myarr_2, axis=0) — Sums along columns (collapses rows).\n",
        "\n",
        "np.sum(myarr_2, axis=1) — Sums along rows (collapses columns).\n",
        "\n",
        "\n",
        "```\n",
        "# This is formatted as code\n",
        "```\n",
        "\n"
      ],
      "metadata": {
        "id": "fmJ8MKJCSzy2"
      }
    },
    {
      "cell_type": "code",
      "source": [
        "lst = [[1,2,3],[4,5,6],[7,1,0]]\n",
        "arr = np.array(lst)\n",
        "arr"
      ],
      "metadata": {
        "colab": {
          "base_uri": "https://localhost:8080/"
        },
        "id": "xZn4bPCVQhZY",
        "outputId": "273cc958-9690-45c6-9674-74e16feadd9b"
      },
      "execution_count": 32,
      "outputs": [
        {
          "output_type": "execute_result",
          "data": {
            "text/plain": [
              "array([[1, 2, 3],\n",
              "       [4, 5, 6],\n",
              "       [7, 1, 0]])"
            ]
          },
          "metadata": {},
          "execution_count": 32
        }
      ]
    },
    {
      "cell_type": "markdown",
      "source": [
        "![image.png](data:image/png;base64,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)"
      ],
      "metadata": {
        "id": "YXgL_U72KjTq"
      }
    },
    {
      "cell_type": "code",
      "source": [
        "arr.sum(axis=0) # rows will collapse i.e Sum along axis 0 (columns)"
      ],
      "metadata": {
        "colab": {
          "base_uri": "https://localhost:8080/"
        },
        "id": "7JkcWtoiTYoH",
        "outputId": "b53df667-51af-4fa8-817c-d35947bdc76b"
      },
      "execution_count": 33,
      "outputs": [
        {
          "output_type": "execute_result",
          "data": {
            "text/plain": [
              "array([12,  8,  9])"
            ]
          },
          "metadata": {},
          "execution_count": 33
        }
      ]
    },
    {
      "cell_type": "code",
      "source": [
        "arr.sum(axis=1) # columns will collapse i.e Sum along axis 1 (rows)"
      ],
      "metadata": {
        "colab": {
          "base_uri": "https://localhost:8080/"
        },
        "id": "bznafXRkTeQa",
        "outputId": "f0426826-fdcf-4038-fc72-5a92d5b112c8"
      },
      "execution_count": 34,
      "outputs": [
        {
          "output_type": "execute_result",
          "data": {
            "text/plain": [
              "array([ 6, 15,  8])"
            ]
          },
          "metadata": {},
          "execution_count": 34
        }
      ]
    },
    {
      "cell_type": "markdown",
      "source": [
        "# Different methods of numpy"
      ],
      "metadata": {
        "id": "cJORn9DdT4yx"
      }
    },
    {
      "cell_type": "code",
      "source": [
        "arr.T\n",
        "'''\n",
        "The .T attribute in NumPy is used to transpose an array, which essentially swaps its rows and columns.\n",
        "It’s a shorthand way to perform a transpose operation.\n",
        "'''"
      ],
      "metadata": {
        "id": "cZGgaCMKTgQe",
        "colab": {
          "base_uri": "https://localhost:8080/"
        },
        "outputId": "0e99d492-f514-42e3-8d43-37c4631b0d3f"
      },
      "execution_count": 35,
      "outputs": [
        {
          "output_type": "execute_result",
          "data": {
            "text/plain": [
              "array([[1, 4, 7],\n",
              "       [2, 5, 1],\n",
              "       [3, 6, 0]])"
            ]
          },
          "metadata": {},
          "execution_count": 35
        }
      ]
    },
    {
      "cell_type": "code",
      "source": [
        "for i in arr.flat:\n",
        "  print(i)\n",
        "\n",
        "'''\n",
        "The .flat attribute in NumPy provides a 1D iterator over all elements of an array,\n",
        "enabling you to iterate through an array element by element in a flattened manner.\n",
        "'''"
      ],
      "metadata": {
        "colab": {
          "base_uri": "https://localhost:8080/"
        },
        "id": "NdxF1kt496_c",
        "outputId": "3b51b866-129e-4506-b56e-73ed51265fa4"
      },
      "execution_count": 36,
      "outputs": [
        {
          "output_type": "stream",
          "name": "stdout",
          "text": [
            "1\n",
            "2\n",
            "3\n",
            "4\n",
            "5\n",
            "6\n",
            "7\n",
            "1\n",
            "0\n"
          ]
        }
      ]
    },
    {
      "cell_type": "code",
      "source": [
        "print(arr.ndim)\n",
        "'''\n",
        "The .ndim attribute in NumPy returns the number of dimensions (also called axes) of a given array.\n",
        "This is useful for understanding the structure of an array and how data is organized within it.\n",
        "'''"
      ],
      "metadata": {
        "colab": {
          "base_uri": "https://localhost:8080/"
        },
        "id": "czASnaXpAR4a",
        "outputId": "64b67e6f-9a9c-42df-c39f-5830f0a38c7f"
      },
      "execution_count": 37,
      "outputs": [
        {
          "output_type": "stream",
          "name": "stdout",
          "text": [
            "2\n"
          ]
        }
      ]
    },
    {
      "cell_type": "code",
      "source": [
        "print(arr.size)"
      ],
      "metadata": {
        "colab": {
          "base_uri": "https://localhost:8080/"
        },
        "id": "KmG89Pq7C4Ng",
        "outputId": "c12dacee-0d58-44f1-b3cc-2e8192b126d1"
      },
      "execution_count": 38,
      "outputs": [
        {
          "output_type": "stream",
          "name": "stdout",
          "text": [
            "9\n"
          ]
        }
      ]
    },
    {
      "cell_type": "code",
      "source": [
        "print(arr.nbytes)\n",
        "'''\n",
        "The .nbytes attribute in NumPy returns the total number of bytes consumed by the elements of the array.\n",
        "This is useful to understand the memory usage of an array, especially when working with large datasets.\n",
        "'''"
      ],
      "metadata": {
        "colab": {
          "base_uri": "https://localhost:8080/"
        },
        "id": "Jl3Jzg15D4ay",
        "outputId": "c6de0597-eaf6-4f9a-bf27-adb4583a46f3"
      },
      "execution_count": 39,
      "outputs": [
        {
          "output_type": "stream",
          "name": "stdout",
          "text": [
            "72\n"
          ]
        }
      ]
    },
    {
      "cell_type": "code",
      "source": [
        "arr"
      ],
      "metadata": {
        "colab": {
          "base_uri": "https://localhost:8080/"
        },
        "id": "j1jni7MmFIaO",
        "outputId": "dfd02bf8-b5f2-4935-e683-acf0c3dd2719"
      },
      "execution_count": 41,
      "outputs": [
        {
          "output_type": "execute_result",
          "data": {
            "text/plain": [
              "array([[1, 2, 3],\n",
              "       [4, 5, 6],\n",
              "       [7, 1, 0]])"
            ]
          },
          "metadata": {},
          "execution_count": 41
        }
      ]
    },
    {
      "cell_type": "code",
      "source": [
        "print(arr.argmax())\n",
        "'''\n",
        "In NumPy, the argmax function is used to find the index of the maximum element in an array.\n",
        "It is particularly useful when you want to know the position of the largest value, rather than the value itself.\n",
        "'''"
      ],
      "metadata": {
        "colab": {
          "base_uri": "https://localhost:8080/"
        },
        "id": "0ZdIoKRIEG6a",
        "outputId": "71bf6bf3-6bcb-4f9e-d965-4cdad39c5397"
      },
      "execution_count": 40,
      "outputs": [
        {
          "output_type": "stream",
          "name": "stdout",
          "text": [
            "6\n"
          ]
        }
      ]
    },
    {
      "cell_type": "code",
      "source": [
        "print(arr.argmin())\n",
        "'''\n",
        "In NumPy, the argmax function is used to find the index of the minimum element in an array.\n",
        "It is particularly useful when you want to know the position of the smallest value, rather than the value itself.\n",
        "'''"
      ],
      "metadata": {
        "colab": {
          "base_uri": "https://localhost:8080/"
        },
        "id": "-af58D2ZE1fK",
        "outputId": "75757cce-9187-41ca-9a66-fb09b5001b82"
      },
      "execution_count": 42,
      "outputs": [
        {
          "output_type": "stream",
          "name": "stdout",
          "text": [
            "8\n"
          ]
        }
      ]
    },
    {
      "cell_type": "code",
      "source": [
        "print(arr.argsort())\n",
        "'''\n",
        "The argsort function in NumPy returns the indices that would sort an array.\n",
        "This is particularly useful when you want to sort an array indirectly by rearranging the indices instead of the values themselves.\n",
        "'''"
      ],
      "metadata": {
        "colab": {
          "base_uri": "https://localhost:8080/"
        },
        "id": "cajYGTCuFNoA",
        "outputId": "ae251e56-2b21-4831-9de8-9b6af04fa1ca"
      },
      "execution_count": 43,
      "outputs": [
        {
          "output_type": "stream",
          "name": "stdout",
          "text": [
            "[[0 1 2]\n",
            " [0 1 2]\n",
            " [2 1 0]]\n"
          ]
        }
      ]
    },
    {
      "cell_type": "code",
      "source": [
        "arr"
      ],
      "metadata": {
        "colab": {
          "base_uri": "https://localhost:8080/"
        },
        "id": "wOzXdJSkFnD5",
        "outputId": "0e1953be-786b-4bb3-cfab-bc0a57b036e1"
      },
      "execution_count": 44,
      "outputs": [
        {
          "output_type": "execute_result",
          "data": {
            "text/plain": [
              "array([[1, 2, 3],\n",
              "       [4, 5, 6],\n",
              "       [7, 1, 0]])"
            ]
          },
          "metadata": {},
          "execution_count": 44
        }
      ]
    },
    {
      "cell_type": "markdown",
      "source": [
        "![image.png](data:image/png;base64,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)"
      ],
      "metadata": {
        "id": "Pjgc1KYVG4Cb"
      }
    },
    {
      "cell_type": "code",
      "source": [
        "arr.argmax(axis=0)\n",
        "'''\n",
        "\n",
        "The arr.argmax(axis=0) function in NumPy finds the indices of the maximum values along the specified axis of the array.\n",
        "Here, the axis specified is 0, which corresponds to columns in a 2D array.\n",
        "\n",
        "Key Behavior:\n",
        "Axis 0 means the function operates column-wise, axis=0: Operates along the columns (vertical axis).\n",
        "For each column, it finds the index of the maximum value in that column.\n",
        "The result is an array of indices.\n",
        "'''"
      ],
      "metadata": {
        "colab": {
          "base_uri": "https://localhost:8080/"
        },
        "id": "jOMZLg2_GaE1",
        "outputId": "616c3bfd-2465-4134-e52f-e5dba063adba"
      },
      "execution_count": 45,
      "outputs": [
        {
          "output_type": "execute_result",
          "data": {
            "text/plain": [
              "array([2, 1, 1])"
            ]
          },
          "metadata": {},
          "execution_count": 45
        }
      ]
    },
    {
      "cell_type": "code",
      "source": [
        "arr.argmax(axis=1)"
      ],
      "metadata": {
        "colab": {
          "base_uri": "https://localhost:8080/"
        },
        "id": "_5w6EHKdG_VR",
        "outputId": "cd0d3b16-47b6-4177-ca91-0c1006bc7e06"
      },
      "execution_count": 46,
      "outputs": [
        {
          "output_type": "execute_result",
          "data": {
            "text/plain": [
              "array([2, 2, 0])"
            ]
          },
          "metadata": {},
          "execution_count": 46
        }
      ]
    },
    {
      "cell_type": "code",
      "source": [
        "arr"
      ],
      "metadata": {
        "colab": {
          "base_uri": "https://localhost:8080/"
        },
        "id": "qWQBwPfGK9au",
        "outputId": "f902b249-2a41-44bf-984d-09041d1fe926"
      },
      "execution_count": 47,
      "outputs": [
        {
          "output_type": "execute_result",
          "data": {
            "text/plain": [
              "array([[1, 2, 3],\n",
              "       [4, 5, 6],\n",
              "       [7, 1, 0]])"
            ]
          },
          "metadata": {},
          "execution_count": 47
        }
      ]
    },
    {
      "cell_type": "code",
      "source": [
        "arr2 = np.array([[1, 2, 1],\n",
        "       [4, 0, 6],\n",
        "       [8, 1, 0]])"
      ],
      "metadata": {
        "id": "786YDMvETZ9w"
      },
      "execution_count": 48,
      "outputs": []
    },
    {
      "cell_type": "code",
      "source": [
        "arr2"
      ],
      "metadata": {
        "colab": {
          "base_uri": "https://localhost:8080/"
        },
        "id": "ZEvLPaDDXph7",
        "outputId": "fed26e59-5e6d-4cc5-b7fa-21780d21f506"
      },
      "execution_count": 50,
      "outputs": [
        {
          "output_type": "execute_result",
          "data": {
            "text/plain": [
              "array([[1, 2, 1],\n",
              "       [4, 0, 6],\n",
              "       [8, 1, 0]])"
            ]
          },
          "metadata": {},
          "execution_count": 50
        }
      ]
    },
    {
      "cell_type": "code",
      "source": [
        "arr + arr2"
      ],
      "metadata": {
        "colab": {
          "base_uri": "https://localhost:8080/"
        },
        "id": "SSmxMBUTXf9p",
        "outputId": "553dcb1f-d0fc-4dcc-c17e-bd3fb238e384"
      },
      "execution_count": 49,
      "outputs": [
        {
          "output_type": "execute_result",
          "data": {
            "text/plain": [
              "array([[ 2,  4,  4],\n",
              "       [ 8,  5, 12],\n",
              "       [15,  2,  0]])"
            ]
          },
          "metadata": {},
          "execution_count": 49
        }
      ]
    },
    {
      "cell_type": "code",
      "source": [
        "arr * arr2"
      ],
      "metadata": {
        "colab": {
          "base_uri": "https://localhost:8080/"
        },
        "id": "iiDzeIymX4io",
        "outputId": "bb115ef1-4b2b-4e56-c776-ba710fce04fc"
      },
      "execution_count": 51,
      "outputs": [
        {
          "output_type": "execute_result",
          "data": {
            "text/plain": [
              "array([[ 1,  4,  3],\n",
              "       [16,  0, 36],\n",
              "       [56,  1,  0]])"
            ]
          },
          "metadata": {},
          "execution_count": 51
        }
      ]
    },
    {
      "cell_type": "code",
      "source": [
        "np.sqrt(arr)"
      ],
      "metadata": {
        "colab": {
          "base_uri": "https://localhost:8080/"
        },
        "id": "ighpYZGOXhdD",
        "outputId": "edaca38f-f1f3-4791-8fca-a92130272cc7"
      },
      "execution_count": 52,
      "outputs": [
        {
          "output_type": "execute_result",
          "data": {
            "text/plain": [
              "array([[1.        , 1.41421356, 1.73205081],\n",
              "       [2.        , 2.23606798, 2.44948974],\n",
              "       [2.64575131, 1.        , 0.        ]])"
            ]
          },
          "metadata": {},
          "execution_count": 52
        }
      ]
    },
    {
      "cell_type": "markdown",
      "source": [
        "# Finding element in array"
      ],
      "metadata": {
        "id": "tlxelHAuaQfn"
      }
    },
    {
      "cell_type": "code",
      "source": [
        "arr"
      ],
      "metadata": {
        "colab": {
          "base_uri": "https://localhost:8080/"
        },
        "id": "BaPuivfeZmfh",
        "outputId": "cc4f7914-a19e-4b05-ef30-b2b29f16b219"
      },
      "execution_count": 54,
      "outputs": [
        {
          "output_type": "execute_result",
          "data": {
            "text/plain": [
              "array([[1, 2, 3],\n",
              "       [4, 5, 6],\n",
              "       [7, 1, 0]])"
            ]
          },
          "metadata": {},
          "execution_count": 54
        }
      ]
    },
    {
      "cell_type": "code",
      "source": [
        "np.where(arr>5)\n",
        "'''\n",
        "element which is greater than 5 is present at 1st indexed row and 2nd indexed column, 2nd indexed row and 1st indexed column\n",
        "'''"
      ],
      "metadata": {
        "colab": {
          "base_uri": "https://localhost:8080/"
        },
        "id": "uOmQw6V4aR6h",
        "outputId": "f294656e-454e-4676-8bf4-cd2ca04000eb"
      },
      "execution_count": 55,
      "outputs": [
        {
          "output_type": "execute_result",
          "data": {
            "text/plain": [
              "(array([1, 2]), array([2, 0]))"
            ]
          },
          "metadata": {},
          "execution_count": 55
        }
      ]
    },
    {
      "cell_type": "code",
      "source": [
        "type(np.where(arr>5))"
      ],
      "metadata": {
        "colab": {
          "base_uri": "https://localhost:8080/"
        },
        "id": "jZybsVKrae_x",
        "outputId": "31a623b8-1b14-49ff-abe9-3208dc8c1cdb"
      },
      "execution_count": 56,
      "outputs": [
        {
          "output_type": "execute_result",
          "data": {
            "text/plain": [
              "tuple"
            ]
          },
          "metadata": {},
          "execution_count": 56
        }
      ]
    },
    {
      "cell_type": "code",
      "source": [
        "np.count_nonzero(arr)"
      ],
      "metadata": {
        "colab": {
          "base_uri": "https://localhost:8080/"
        },
        "id": "bW09kRQ4bIDM",
        "outputId": "89fcc7be-d3a7-4d94-ea36-8e775a448c4c"
      },
      "execution_count": 57,
      "outputs": [
        {
          "output_type": "execute_result",
          "data": {
            "text/plain": [
              "8"
            ]
          },
          "metadata": {},
          "execution_count": 57
        }
      ]
    },
    {
      "cell_type": "code",
      "source": [
        "arr"
      ],
      "metadata": {
        "colab": {
          "base_uri": "https://localhost:8080/"
        },
        "id": "julLYgCcdSQz",
        "outputId": "e8e6e906-f8e1-4f47-95e8-f7c9602ebe76"
      },
      "execution_count": 59,
      "outputs": [
        {
          "output_type": "execute_result",
          "data": {
            "text/plain": [
              "array([[1, 2, 3],\n",
              "       [4, 5, 6],\n",
              "       [7, 1, 0]])"
            ]
          },
          "metadata": {},
          "execution_count": 59
        }
      ]
    },
    {
      "cell_type": "code",
      "source": [
        "np.nonzero(arr)\n",
        "'''\n",
        "Returns:\n",
        "Tuple of arrays: Each array in the tuple represents the indices along one axis where non-zero elements are located.\n",
        "\n",
        "Explanation:\n",
        "The first array (array([0, 0, 0, 1, 1, 1, 2, 2])) contains the row indices of the non-zero elements.\n",
        "The second array (array([0, 1, 2, 0, 1, 2, 0, 1])) contains the column indices of the non-zero elements.\n",
        "\n",
        "\n",
        "\n",
        "The non-zero elements are located at:\n",
        "\n",
        "(0, 0): Value 1\n",
        "(0, 1): Value 2\n",
        "(0, 2): Value 3\n",
        "(1, 0): Value 4\n",
        "(1, 1): Value 5\n",
        "(1, 2): Value 6 and so on........\n",
        "'''"
      ],
      "metadata": {
        "colab": {
          "base_uri": "https://localhost:8080/"
        },
        "id": "rcqtbCXqbS0w",
        "outputId": "8ab446fc-3de5-4423-f036-de40d39d9a01"
      },
      "execution_count": 58,
      "outputs": [
        {
          "output_type": "execute_result",
          "data": {
            "text/plain": [
              "(array([0, 0, 0, 1, 1, 1, 2, 2]), array([0, 1, 2, 0, 1, 2, 0, 1]))"
            ]
          },
          "metadata": {},
          "execution_count": 58
        }
      ]
    },
    {
      "cell_type": "markdown",
      "source": [
        "![image.png](data:image/png;base64,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)"
      ],
      "metadata": {
        "id": "6e1Q-B7SeCmz"
      }
    },
    {
      "cell_type": "code",
      "source": [],
      "metadata": {
        "id": "1SulNfBYb8M9"
      },
      "execution_count": null,
      "outputs": []
    }
  ]
}